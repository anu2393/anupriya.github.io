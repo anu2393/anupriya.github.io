{
 "cells": [
  {
   "cell_type": "code",
   "execution_count": 275,
   "id": "e669b1d8",
   "metadata": {},
   "outputs": [],
   "source": [
    "import numpy as np\n",
    "import pandas as pd\n",
    "import seaborn as sns\n",
    "import matplotlib.pyplot as plt\n",
    "import datetime as dt\n",
    "from sklearn.linear_model import LinearRegression\n",
    "\n",
    "from sklearn import metrics\n",
    "from sklearn.model_selection import train_test_split\n",
    "from sklearn.metrics import r2_score\n",
    "from geopy.distance import geodesic\n",
    "import time\n"
   ]
  },
  {
   "cell_type": "code",
   "execution_count": 276,
   "id": "288a5cd4",
   "metadata": {},
   "outputs": [],
   "source": [
    "df=pd.read_csv('nyc_taxi_trip_duration Dataset.csv')"
   ]
  },
  {
   "cell_type": "code",
   "execution_count": 277,
   "id": "eb583bc6",
   "metadata": {
    "scrolled": true
   },
   "outputs": [
    {
     "data": {
      "text/html": [
       "<div>\n",
       "<style scoped>\n",
       "    .dataframe tbody tr th:only-of-type {\n",
       "        vertical-align: middle;\n",
       "    }\n",
       "\n",
       "    .dataframe tbody tr th {\n",
       "        vertical-align: top;\n",
       "    }\n",
       "\n",
       "    .dataframe thead th {\n",
       "        text-align: right;\n",
       "    }\n",
       "</style>\n",
       "<table border=\"1\" class=\"dataframe\">\n",
       "  <thead>\n",
       "    <tr style=\"text-align: right;\">\n",
       "      <th></th>\n",
       "      <th>id</th>\n",
       "      <th>vendor_id</th>\n",
       "      <th>pickup_datetime</th>\n",
       "      <th>dropoff_datetime</th>\n",
       "      <th>passenger_count</th>\n",
       "      <th>pickup_longitude</th>\n",
       "      <th>pickup_latitude</th>\n",
       "      <th>dropoff_longitude</th>\n",
       "      <th>dropoff_latitude</th>\n",
       "      <th>store_and_fwd_flag</th>\n",
       "      <th>trip_duration</th>\n",
       "    </tr>\n",
       "  </thead>\n",
       "  <tbody>\n",
       "    <tr>\n",
       "      <th>0</th>\n",
       "      <td>id1080784</td>\n",
       "      <td>2</td>\n",
       "      <td>2016-02-29 16:40:21</td>\n",
       "      <td>2016-02-29 16:47:01</td>\n",
       "      <td>1</td>\n",
       "      <td>-73.953918</td>\n",
       "      <td>40.778873</td>\n",
       "      <td>-73.963875</td>\n",
       "      <td>40.771164</td>\n",
       "      <td>N</td>\n",
       "      <td>400</td>\n",
       "    </tr>\n",
       "    <tr>\n",
       "      <th>1</th>\n",
       "      <td>id0889885</td>\n",
       "      <td>1</td>\n",
       "      <td>2016-03-11 23:35:37</td>\n",
       "      <td>2016-03-11 23:53:57</td>\n",
       "      <td>2</td>\n",
       "      <td>-73.988312</td>\n",
       "      <td>40.731743</td>\n",
       "      <td>-73.994751</td>\n",
       "      <td>40.694931</td>\n",
       "      <td>N</td>\n",
       "      <td>1100</td>\n",
       "    </tr>\n",
       "    <tr>\n",
       "      <th>2</th>\n",
       "      <td>id0857912</td>\n",
       "      <td>2</td>\n",
       "      <td>2016-02-21 17:59:33</td>\n",
       "      <td>2016-02-21 18:26:48</td>\n",
       "      <td>2</td>\n",
       "      <td>-73.997314</td>\n",
       "      <td>40.721458</td>\n",
       "      <td>-73.948029</td>\n",
       "      <td>40.774918</td>\n",
       "      <td>N</td>\n",
       "      <td>1635</td>\n",
       "    </tr>\n",
       "    <tr>\n",
       "      <th>3</th>\n",
       "      <td>id3744273</td>\n",
       "      <td>2</td>\n",
       "      <td>2016-01-05 09:44:31</td>\n",
       "      <td>2016-01-05 10:03:32</td>\n",
       "      <td>6</td>\n",
       "      <td>-73.961670</td>\n",
       "      <td>40.759720</td>\n",
       "      <td>-73.956779</td>\n",
       "      <td>40.780628</td>\n",
       "      <td>N</td>\n",
       "      <td>1141</td>\n",
       "    </tr>\n",
       "    <tr>\n",
       "      <th>4</th>\n",
       "      <td>id0232939</td>\n",
       "      <td>1</td>\n",
       "      <td>2016-02-17 06:42:23</td>\n",
       "      <td>2016-02-17 06:56:31</td>\n",
       "      <td>1</td>\n",
       "      <td>-74.017120</td>\n",
       "      <td>40.708469</td>\n",
       "      <td>-73.988182</td>\n",
       "      <td>40.740631</td>\n",
       "      <td>N</td>\n",
       "      <td>848</td>\n",
       "    </tr>\n",
       "  </tbody>\n",
       "</table>\n",
       "</div>"
      ],
      "text/plain": [
       "          id  vendor_id      pickup_datetime     dropoff_datetime  \\\n",
       "0  id1080784          2  2016-02-29 16:40:21  2016-02-29 16:47:01   \n",
       "1  id0889885          1  2016-03-11 23:35:37  2016-03-11 23:53:57   \n",
       "2  id0857912          2  2016-02-21 17:59:33  2016-02-21 18:26:48   \n",
       "3  id3744273          2  2016-01-05 09:44:31  2016-01-05 10:03:32   \n",
       "4  id0232939          1  2016-02-17 06:42:23  2016-02-17 06:56:31   \n",
       "\n",
       "   passenger_count  pickup_longitude  pickup_latitude  dropoff_longitude  \\\n",
       "0                1        -73.953918        40.778873         -73.963875   \n",
       "1                2        -73.988312        40.731743         -73.994751   \n",
       "2                2        -73.997314        40.721458         -73.948029   \n",
       "3                6        -73.961670        40.759720         -73.956779   \n",
       "4                1        -74.017120        40.708469         -73.988182   \n",
       "\n",
       "   dropoff_latitude store_and_fwd_flag  trip_duration  \n",
       "0         40.771164                  N            400  \n",
       "1         40.694931                  N           1100  \n",
       "2         40.774918                  N           1635  \n",
       "3         40.780628                  N           1141  \n",
       "4         40.740631                  N            848  "
      ]
     },
     "execution_count": 277,
     "metadata": {},
     "output_type": "execute_result"
    }
   ],
   "source": [
    "df.head()"
   ]
  },
  {
   "cell_type": "code",
   "execution_count": 278,
   "id": "4a221246",
   "metadata": {},
   "outputs": [
    {
     "data": {
      "text/plain": [
       "(729322, 11)"
      ]
     },
     "execution_count": 278,
     "metadata": {},
     "output_type": "execute_result"
    }
   ],
   "source": [
    "df.shape"
   ]
  },
  {
   "cell_type": "code",
   "execution_count": 279,
   "id": "dc81fc89",
   "metadata": {},
   "outputs": [
    {
     "data": {
      "text/plain": [
       "id                     object\n",
       "vendor_id               int64\n",
       "pickup_datetime        object\n",
       "dropoff_datetime       object\n",
       "passenger_count         int64\n",
       "pickup_longitude      float64\n",
       "pickup_latitude       float64\n",
       "dropoff_longitude     float64\n",
       "dropoff_latitude      float64\n",
       "store_and_fwd_flag     object\n",
       "trip_duration           int64\n",
       "dtype: object"
      ]
     },
     "execution_count": 279,
     "metadata": {},
     "output_type": "execute_result"
    }
   ],
   "source": [
    "df.dtypes"
   ]
  },
  {
   "cell_type": "markdown",
   "id": "67837503",
   "metadata": {},
   "source": [
    "# Checking missing or null values"
   ]
  },
  {
   "cell_type": "code",
   "execution_count": 280,
   "id": "b5833535",
   "metadata": {},
   "outputs": [
    {
     "data": {
      "text/plain": [
       "id                    0\n",
       "vendor_id             0\n",
       "pickup_datetime       0\n",
       "dropoff_datetime      0\n",
       "passenger_count       0\n",
       "pickup_longitude      0\n",
       "pickup_latitude       0\n",
       "dropoff_longitude     0\n",
       "dropoff_latitude      0\n",
       "store_and_fwd_flag    0\n",
       "trip_duration         0\n",
       "dtype: int64"
      ]
     },
     "execution_count": 280,
     "metadata": {},
     "output_type": "execute_result"
    }
   ],
   "source": [
    "df.isna().sum()"
   ]
  },
  {
   "cell_type": "code",
   "execution_count": 281,
   "id": "d9a1408f",
   "metadata": {},
   "outputs": [],
   "source": [
    "df['pickup_datetime'] = pd.to_datetime(df['pickup_datetime'])\n",
    "df['dropoff_datetime'] = pd.to_datetime(df['dropoff_datetime'])\n",
    "#Calculate and assign new columns to the dataframe such as weekday,\n",
    "#month and pickup_hour which will help us to gain more insights from the data.\n",
    "df['weekday'] = df.pickup_datetime.dt.weekday\n",
    "df['month'] = df.pickup_datetime.dt.month\n",
    "df['weekday_num'] = df.pickup_datetime.dt.weekday\n",
    "df['pickup_hour'] = df.pickup_datetime.dt.hour\n",
    "df['dropoff_hour']=df.dropoff_datetime.dt.hour"
   ]
  },
  {
   "cell_type": "code",
   "execution_count": 282,
   "id": "2cab812c",
   "metadata": {},
   "outputs": [],
   "source": [
    "df['trip_duration_hour'] = df['trip_duration'].apply(lambda x: x/3600)\n",
    "df['store_and_fwd_flag']=1*(df.store_and_fwd_flag.values=='Y')"
   ]
  },
  {
   "cell_type": "code",
   "execution_count": 283,
   "id": "b54cf007",
   "metadata": {},
   "outputs": [
    {
     "data": {
      "text/plain": [
       "id                            object\n",
       "vendor_id                      int64\n",
       "pickup_datetime       datetime64[ns]\n",
       "dropoff_datetime      datetime64[ns]\n",
       "passenger_count                int64\n",
       "pickup_longitude             float64\n",
       "pickup_latitude              float64\n",
       "dropoff_longitude            float64\n",
       "dropoff_latitude             float64\n",
       "store_and_fwd_flag             int32\n",
       "trip_duration                  int64\n",
       "weekday                        int64\n",
       "month                          int64\n",
       "weekday_num                    int64\n",
       "pickup_hour                    int64\n",
       "dropoff_hour                   int64\n",
       "trip_duration_hour           float64\n",
       "dtype: object"
      ]
     },
     "execution_count": 283,
     "metadata": {},
     "output_type": "execute_result"
    }
   ],
   "source": [
    "df.dtypes"
   ]
  },
  {
   "cell_type": "code",
   "execution_count": 284,
   "id": "f13d7460",
   "metadata": {},
   "outputs": [
    {
     "data": {
      "text/html": [
       "<div>\n",
       "<style scoped>\n",
       "    .dataframe tbody tr th:only-of-type {\n",
       "        vertical-align: middle;\n",
       "    }\n",
       "\n",
       "    .dataframe tbody tr th {\n",
       "        vertical-align: top;\n",
       "    }\n",
       "\n",
       "    .dataframe thead th {\n",
       "        text-align: right;\n",
       "    }\n",
       "</style>\n",
       "<table border=\"1\" class=\"dataframe\">\n",
       "  <thead>\n",
       "    <tr style=\"text-align: right;\">\n",
       "      <th></th>\n",
       "      <th>vendor_id</th>\n",
       "      <th>passenger_count</th>\n",
       "      <th>pickup_longitude</th>\n",
       "      <th>pickup_latitude</th>\n",
       "      <th>dropoff_longitude</th>\n",
       "      <th>dropoff_latitude</th>\n",
       "      <th>store_and_fwd_flag</th>\n",
       "      <th>trip_duration</th>\n",
       "      <th>weekday</th>\n",
       "      <th>month</th>\n",
       "      <th>weekday_num</th>\n",
       "      <th>pickup_hour</th>\n",
       "      <th>dropoff_hour</th>\n",
       "      <th>trip_duration_hour</th>\n",
       "    </tr>\n",
       "  </thead>\n",
       "  <tbody>\n",
       "    <tr>\n",
       "      <th>count</th>\n",
       "      <td>729322.000000</td>\n",
       "      <td>729322.000000</td>\n",
       "      <td>729322.000000</td>\n",
       "      <td>729322.000000</td>\n",
       "      <td>729322.000000</td>\n",
       "      <td>729322.000000</td>\n",
       "      <td>729322.000000</td>\n",
       "      <td>7.293220e+05</td>\n",
       "      <td>729322.000000</td>\n",
       "      <td>729322.000000</td>\n",
       "      <td>729322.000000</td>\n",
       "      <td>729322.000000</td>\n",
       "      <td>729322.00000</td>\n",
       "      <td>729322.000000</td>\n",
       "    </tr>\n",
       "    <tr>\n",
       "      <th>mean</th>\n",
       "      <td>1.535403</td>\n",
       "      <td>1.662055</td>\n",
       "      <td>-73.973513</td>\n",
       "      <td>40.750919</td>\n",
       "      <td>-73.973422</td>\n",
       "      <td>40.751775</td>\n",
       "      <td>0.005539</td>\n",
       "      <td>9.522291e+02</td>\n",
       "      <td>3.049081</td>\n",
       "      <td>3.518410</td>\n",
       "      <td>3.049081</td>\n",
       "      <td>13.611698</td>\n",
       "      <td>13.60616</td>\n",
       "      <td>0.264508</td>\n",
       "    </tr>\n",
       "    <tr>\n",
       "      <th>std</th>\n",
       "      <td>0.498745</td>\n",
       "      <td>1.312446</td>\n",
       "      <td>0.069754</td>\n",
       "      <td>0.033594</td>\n",
       "      <td>0.069588</td>\n",
       "      <td>0.036037</td>\n",
       "      <td>0.074221</td>\n",
       "      <td>3.864626e+03</td>\n",
       "      <td>1.954470</td>\n",
       "      <td>1.680661</td>\n",
       "      <td>1.954470</td>\n",
       "      <td>6.402853</td>\n",
       "      <td>6.48637</td>\n",
       "      <td>1.073507</td>\n",
       "    </tr>\n",
       "    <tr>\n",
       "      <th>min</th>\n",
       "      <td>1.000000</td>\n",
       "      <td>0.000000</td>\n",
       "      <td>-121.933342</td>\n",
       "      <td>34.712234</td>\n",
       "      <td>-121.933304</td>\n",
       "      <td>32.181141</td>\n",
       "      <td>0.000000</td>\n",
       "      <td>1.000000e+00</td>\n",
       "      <td>0.000000</td>\n",
       "      <td>1.000000</td>\n",
       "      <td>0.000000</td>\n",
       "      <td>0.000000</td>\n",
       "      <td>0.00000</td>\n",
       "      <td>0.000278</td>\n",
       "    </tr>\n",
       "    <tr>\n",
       "      <th>25%</th>\n",
       "      <td>1.000000</td>\n",
       "      <td>1.000000</td>\n",
       "      <td>-73.991859</td>\n",
       "      <td>40.737335</td>\n",
       "      <td>-73.991318</td>\n",
       "      <td>40.735931</td>\n",
       "      <td>0.000000</td>\n",
       "      <td>3.970000e+02</td>\n",
       "      <td>1.000000</td>\n",
       "      <td>2.000000</td>\n",
       "      <td>1.000000</td>\n",
       "      <td>9.000000</td>\n",
       "      <td>9.00000</td>\n",
       "      <td>0.110278</td>\n",
       "    </tr>\n",
       "    <tr>\n",
       "      <th>50%</th>\n",
       "      <td>2.000000</td>\n",
       "      <td>1.000000</td>\n",
       "      <td>-73.981758</td>\n",
       "      <td>40.754070</td>\n",
       "      <td>-73.979759</td>\n",
       "      <td>40.754509</td>\n",
       "      <td>0.000000</td>\n",
       "      <td>6.630000e+02</td>\n",
       "      <td>3.000000</td>\n",
       "      <td>4.000000</td>\n",
       "      <td>3.000000</td>\n",
       "      <td>14.000000</td>\n",
       "      <td>14.00000</td>\n",
       "      <td>0.184167</td>\n",
       "    </tr>\n",
       "    <tr>\n",
       "      <th>75%</th>\n",
       "      <td>2.000000</td>\n",
       "      <td>2.000000</td>\n",
       "      <td>-73.967361</td>\n",
       "      <td>40.768314</td>\n",
       "      <td>-73.963036</td>\n",
       "      <td>40.769741</td>\n",
       "      <td>0.000000</td>\n",
       "      <td>1.075000e+03</td>\n",
       "      <td>5.000000</td>\n",
       "      <td>5.000000</td>\n",
       "      <td>5.000000</td>\n",
       "      <td>19.000000</td>\n",
       "      <td>19.00000</td>\n",
       "      <td>0.298611</td>\n",
       "    </tr>\n",
       "    <tr>\n",
       "      <th>max</th>\n",
       "      <td>2.000000</td>\n",
       "      <td>9.000000</td>\n",
       "      <td>-65.897385</td>\n",
       "      <td>51.881084</td>\n",
       "      <td>-65.897385</td>\n",
       "      <td>43.921028</td>\n",
       "      <td>1.000000</td>\n",
       "      <td>1.939736e+06</td>\n",
       "      <td>6.000000</td>\n",
       "      <td>6.000000</td>\n",
       "      <td>6.000000</td>\n",
       "      <td>23.000000</td>\n",
       "      <td>23.00000</td>\n",
       "      <td>538.815556</td>\n",
       "    </tr>\n",
       "  </tbody>\n",
       "</table>\n",
       "</div>"
      ],
      "text/plain": [
       "           vendor_id  passenger_count  pickup_longitude  pickup_latitude  \\\n",
       "count  729322.000000    729322.000000     729322.000000    729322.000000   \n",
       "mean        1.535403         1.662055        -73.973513        40.750919   \n",
       "std         0.498745         1.312446          0.069754         0.033594   \n",
       "min         1.000000         0.000000       -121.933342        34.712234   \n",
       "25%         1.000000         1.000000        -73.991859        40.737335   \n",
       "50%         2.000000         1.000000        -73.981758        40.754070   \n",
       "75%         2.000000         2.000000        -73.967361        40.768314   \n",
       "max         2.000000         9.000000        -65.897385        51.881084   \n",
       "\n",
       "       dropoff_longitude  dropoff_latitude  store_and_fwd_flag  trip_duration  \\\n",
       "count      729322.000000     729322.000000       729322.000000   7.293220e+05   \n",
       "mean          -73.973422         40.751775            0.005539   9.522291e+02   \n",
       "std             0.069588          0.036037            0.074221   3.864626e+03   \n",
       "min          -121.933304         32.181141            0.000000   1.000000e+00   \n",
       "25%           -73.991318         40.735931            0.000000   3.970000e+02   \n",
       "50%           -73.979759         40.754509            0.000000   6.630000e+02   \n",
       "75%           -73.963036         40.769741            0.000000   1.075000e+03   \n",
       "max           -65.897385         43.921028            1.000000   1.939736e+06   \n",
       "\n",
       "             weekday          month    weekday_num    pickup_hour  \\\n",
       "count  729322.000000  729322.000000  729322.000000  729322.000000   \n",
       "mean        3.049081       3.518410       3.049081      13.611698   \n",
       "std         1.954470       1.680661       1.954470       6.402853   \n",
       "min         0.000000       1.000000       0.000000       0.000000   \n",
       "25%         1.000000       2.000000       1.000000       9.000000   \n",
       "50%         3.000000       4.000000       3.000000      14.000000   \n",
       "75%         5.000000       5.000000       5.000000      19.000000   \n",
       "max         6.000000       6.000000       6.000000      23.000000   \n",
       "\n",
       "       dropoff_hour  trip_duration_hour  \n",
       "count  729322.00000       729322.000000  \n",
       "mean       13.60616            0.264508  \n",
       "std         6.48637            1.073507  \n",
       "min         0.00000            0.000278  \n",
       "25%         9.00000            0.110278  \n",
       "50%        14.00000            0.184167  \n",
       "75%        19.00000            0.298611  \n",
       "max        23.00000          538.815556  "
      ]
     },
     "execution_count": 284,
     "metadata": {},
     "output_type": "execute_result"
    }
   ],
   "source": [
    "df.describe()"
   ]
  },
  {
   "cell_type": "markdown",
   "id": "a3fd4a16",
   "metadata": {},
   "source": [
    "# Checking for outliers:\n",
    "From df.describe(), we can see,\n",
    "possible outliers present in:\n",
    "passenger_count, trip_duration\n",
    "Let us plot and check for the outliers and if they are present, we will remove it"
   ]
  },
  {
   "cell_type": "code",
   "execution_count": 285,
   "id": "da9fec7f",
   "metadata": {},
   "outputs": [
    {
     "data": {
      "image/png": "[encoded data removed]",
      "text/plain": [
       "<Figure size 1152x360 with 1 Axes>"
      ]
     },
     "metadata": {
      "needs_background": "light"
     },
     "output_type": "display_data"
    },
    {
     "data": {
      "image/png": "[encoded data removed]",
      "text/plain": [
       "<Figure size 1152x360 with 1 Axes>"
      ]
     },
     "metadata": {
      "needs_background": "light"
     },
     "output_type": "display_data"
    }
   ],
   "source": [
    "fig, axes = plt.subplots(nrows=1, ncols=1,figsize=(16,5))\n",
    "# line = df['passenger_count'].value_counts().plot(kind='bar',fontsize = 15)\n",
    "line = sns.countplot(df.passenger_count)\n",
    "line.set_ylabel(\" Count\",fontsize = 15)\n",
    "line.set_xlabel(\"No. of Passenger \",fontsize = 15)\n",
    "line.set_title('Passenger Count',fontsize = 20)\n",
    "fig.tight_layout()\n",
    "fig, axes = plt.subplots(nrows=1, ncols=1,figsize=(16,5))\n",
    "box = df['passenger_count'].plot(kind='box',vert = False,fontsize = 15)\n",
    "box.set_title('Passenger Count',fontsize = 20)\n",
    "\n",
    "fig.tight_layout()"
   ]
  },
  {
   "cell_type": "markdown",
   "id": "c2af52dc",
   "metadata": {},
   "source": [
    "There are some trips with 0 passenger count.\n",
    "Few trips consisted of even 4,5,6, 7, 8 or 9 passengers. Clear outliers and pointers to data inconsistency\n",
    "Most of trip consist of passenger either 1 or 2"
   ]
  },
  {
   "cell_type": "code",
   "execution_count": 286,
   "id": "2ae6ea3a",
   "metadata": {},
   "outputs": [
    {
     "data": {
      "image/png": "[encoded data removed]",
      "text/plain": [
       "<Figure size 1080x360 with 1 Axes>"
      ]
     },
     "metadata": {
      "needs_background": "light"
     },
     "output_type": "display_data"
    }
   ],
   "source": [
    "plt.figure(figsize = (15,5))\n",
    "sns.boxplot(df.trip_duration_hour)\n",
    "plt.show()"
   ]
  },
  {
   "cell_type": "code",
   "execution_count": 289,
   "id": "3b0264cd",
   "metadata": {},
   "outputs": [],
   "source": [
    "#calculating distance\n",
    "from geopy.distance import great_circle\n",
    "\n",
    "df['distance'] = df.apply(lambda x: great_circle([x.pickup_latitude, x.pickup_longitude], [x.dropoff_latitude, x.dropoff_longitude]).km, axis=1)\n",
    "    "
   ]
  },
  {
   "cell_type": "code",
   "execution_count": 17,
   "id": "a19a05f8",
   "metadata": {},
   "outputs": [
    {
     "data": {
      "image/png": "[encoded data removed]",
      "text/plain": [
       "<Figure size 1440x360 with 1 Axes>"
      ]
     },
     "metadata": {
      "needs_background": "light"
     },
     "output_type": "display_data"
    }
   ],
   "source": [
    "plt.figure(figsize = (20,5))\n",
    "plt.scatter(df.trip_duration_hour, df.distance , s=100, alpha=1)\n",
    "plt.ylabel('Distance')\n",
    "plt.xlabel('Trip Duration Hour')\n",
    "plt.title('Distance v/s Trip Duration')\n",
    "plt.show()"
   ]
  },
  {
   "cell_type": "markdown",
   "id": "73a370ca",
   "metadata": {},
   "source": [
    "Trip duration is 0 hrs but has large distance covered. Also, trips with large trip duration, but for 0kms. They need to \n",
    "be removed"
   ]
  },
  {
   "cell_type": "markdown",
   "id": "04604a6b",
   "metadata": {},
   "source": [
    "# Defining outliers"
   ]
  },
  {
   "cell_type": "code",
   "execution_count": 290,
   "id": "1bdd9a0e",
   "metadata": {},
   "outputs": [],
   "source": [
    "def out_iqr(df , column):\n",
    "    global lower,upper\n",
    "    q25, q75 = np.quantile(df[column], 0.25), np.quantile(df[column], 0.75)\n",
    "    # calculate the IQR\n",
    "    iqr = q75 - q25\n",
    "    # calculate the outlier cutoff\n",
    "    cut_off = iqr * 1.5\n",
    "    # calculate the lower and upper bound value\n",
    "    lower, upper = q25 - cut_off, q75 + cut_off\n",
    "    print('The IQR is',iqr)\n",
    "    print('The lower bound value is', lower)\n",
    "    print('The upper bound value is', upper)\n",
    "    # Calculate the number of records below and above lower and above bound value respectively\n",
    "    df1 = df[df[column] > upper]\n",
    "    df2 = df[df[column] < lower]\n",
    "    return print('Total number of outliers are', df1.shape[0]+ df2.shape[0])"
   ]
  },
  {
   "cell_type": "code",
   "execution_count": 291,
   "id": "647c2a0e",
   "metadata": {},
   "outputs": [
    {
     "name": "stdout",
     "output_type": "stream",
     "text": [
      "The IQR is 2.6437898020697164\n",
      "The lower bound value is -2.7329879285750383\n",
      "The upper bound value is 7.842171279703827\n",
      "Total number of outliers are 70318\n"
     ]
    }
   ],
   "source": [
    "out_iqr(df , 'distance')"
   ]
  },
  {
   "cell_type": "code",
   "execution_count": 292,
   "id": "aca90fb5",
   "metadata": {},
   "outputs": [],
   "source": [
    "df=df[df['distance']>lower]\n",
    "df=df[df['distance']<upper]"
   ]
  },
  {
   "cell_type": "code",
   "execution_count": 293,
   "id": "c67634e2",
   "metadata": {},
   "outputs": [
    {
     "data": {
      "text/plain": [
       "(659004, 18)"
      ]
     },
     "execution_count": 293,
     "metadata": {},
     "output_type": "execute_result"
    }
   ],
   "source": [
    "df.shape"
   ]
  },
  {
   "cell_type": "code",
   "execution_count": 294,
   "id": "2835306b",
   "metadata": {},
   "outputs": [],
   "source": [
    "def out_iqr(df , column):\n",
    "    global lower,upper\n",
    "    q25, q75 = np.quantile(df[column], 0.25), np.quantile(df[column], 0.75)\n",
    "    # calculate the IQR\n",
    "    iqr = q75 - q25\n",
    "    # calculate the outlier cutoff\n",
    "    cut_off = iqr * 1.5\n",
    "    # calculate the lower and upper bound value\n",
    "    lower, upper = q25 - cut_off, q75 + cut_off\n",
    "    print('The IQR is',iqr)\n",
    "    print('The lower bound value is', lower)\n",
    "    print('The upper bound value is', upper)\n",
    "    # Calculate the number of records below and above lower and above bound value respectively\n",
    "    df1 = df[df[column] > upper]\n",
    "    df2 = df[df[column] < lower]\n",
    "    return print('Total number of outliers are', df1.shape[0]+ df2.shape[0])"
   ]
  },
  {
   "cell_type": "code",
   "execution_count": 295,
   "id": "ea4fd664",
   "metadata": {},
   "outputs": [
    {
     "name": "stdout",
     "output_type": "stream",
     "text": [
      "The IQR is 0.1552777777777778\n",
      "The lower bound value is -0.12930555555555556\n",
      "The upper bound value is 0.4918055555555556\n",
      "Total number of outliers are 20162\n"
     ]
    }
   ],
   "source": [
    "out_iqr(df , 'trip_duration_hour')"
   ]
  },
  {
   "cell_type": "code",
   "execution_count": 296,
   "id": "c69b0e8d",
   "metadata": {},
   "outputs": [],
   "source": [
    "df=df[df['trip_duration_hour']>0]\n",
    "df=df[df['trip_duration_hour']<upper]"
   ]
  },
  {
   "cell_type": "code",
   "execution_count": 297,
   "id": "be85ae67",
   "metadata": {},
   "outputs": [
    {
     "data": {
      "text/plain": [
       "(638842, 18)"
      ]
     },
     "execution_count": 297,
     "metadata": {},
     "output_type": "execute_result"
    }
   ],
   "source": [
    "df.shape"
   ]
  },
  {
   "cell_type": "code",
   "execution_count": 298,
   "id": "e0ff5871",
   "metadata": {},
   "outputs": [],
   "source": [
    "def out_iqr(df , column):\n",
    "    global lower,upper\n",
    "    q25, q75 = np.quantile(df[column], 0.25), np.quantile(df[column], 0.75)\n",
    "    # calculate the IQR\n",
    "    iqr = q75 - q25\n",
    "    # calculate the outlier cutoff\n",
    "    cut_off = iqr * 1.5\n",
    "    # calculate the lower and upper bound value\n",
    "    lower, upper = q25 - cut_off, q75 + cut_off\n",
    "    print('The IQR is',iqr)\n",
    "    print('The lower bound value is', lower)\n",
    "    print('The upper bound value is', upper)\n",
    "    # Calculate the number of records below and above lower and above bound value respectively\n",
    "    df1 = df[df[column] > upper]\n",
    "    df2 = df[df[column] < lower]\n",
    "    return print('Total number of outliers are', df1.shape[0]+ df2.shape[0])"
   ]
  },
  {
   "cell_type": "code",
   "execution_count": 299,
   "id": "4e35b3fc",
   "metadata": {},
   "outputs": [
    {
     "name": "stdout",
     "output_type": "stream",
     "text": [
      "The IQR is 1.0\n",
      "The lower bound value is -0.5\n",
      "The upper bound value is 3.5\n",
      "Total number of outliers are 67118\n"
     ]
    }
   ],
   "source": [
    "out_iqr(df , 'passenger_count')"
   ]
  },
  {
   "cell_type": "code",
   "execution_count": 300,
   "id": "ec370476",
   "metadata": {},
   "outputs": [],
   "source": [
    "df=df[df['passenger_count']>0]\n",
    "df=df[df['passenger_count']<upper]"
   ]
  },
  {
   "cell_type": "code",
   "execution_count": 301,
   "id": "c9c0e65b",
   "metadata": {},
   "outputs": [
    {
     "data": {
      "text/plain": [
       "(571695, 18)"
      ]
     },
     "execution_count": 301,
     "metadata": {},
     "output_type": "execute_result"
    }
   ],
   "source": [
    "df.shape"
   ]
  },
  {
   "cell_type": "code",
   "execution_count": 302,
   "id": "29558136",
   "metadata": {},
   "outputs": [
    {
     "data": {
      "text/plain": [
       "<AxesSubplot:>"
      ]
     },
     "execution_count": 302,
     "metadata": {},
     "output_type": "execute_result"
    },
    {
     "data": {
      "image/png": "[encoded data removed]",
      "text/plain": [
       "<Figure size 432x288 with 1 Axes>"
      ]
     },
     "metadata": {
      "needs_background": "light"
     },
     "output_type": "display_data"
    }
   ],
   "source": [
    "df.distance.plot(kind='box',vert=False,fontsize=10)"
   ]
  },
  {
   "cell_type": "code",
   "execution_count": 303,
   "id": "b97e3180",
   "metadata": {},
   "outputs": [
    {
     "data": {
      "text/plain": [
       "<AxesSubplot:>"
      ]
     },
     "execution_count": 303,
     "metadata": {},
     "output_type": "execute_result"
    },
    {
     "data": {
      "image/png": "[encoded data removed]",
      "text/plain": [
       "<Figure size 432x288 with 1 Axes>"
      ]
     },
     "metadata": {
      "needs_background": "light"
     },
     "output_type": "display_data"
    }
   ],
   "source": [
    "df.trip_duration_hour.plot(kind='box',vert=False,fontsize=10)"
   ]
  },
  {
   "cell_type": "code",
   "execution_count": 304,
   "id": "7d228834",
   "metadata": {},
   "outputs": [
    {
     "data": {
      "text/plain": [
       "<AxesSubplot:>"
      ]
     },
     "execution_count": 304,
     "metadata": {},
     "output_type": "execute_result"
    },
    {
     "data": {
      "image/png": "[encoded data removed]",
      "text/plain": [
       "<Figure size 432x288 with 1 Axes>"
      ]
     },
     "metadata": {
      "needs_background": "light"
     },
     "output_type": "display_data"
    }
   ],
   "source": [
    "df['passenger_count'].plot(kind='box',vert=False,fontsize=10)"
   ]
  },
  {
   "cell_type": "markdown",
   "id": "c29bd2c2",
   "metadata": {},
   "source": [
    "# After removing the outliers, we can see the number of rows have reduced"
   ]
  },
  {
   "cell_type": "code",
   "execution_count": 305,
   "id": "5334e2d5",
   "metadata": {},
   "outputs": [
    {
     "data": {
      "text/plain": [
       "0.18340000155483976"
      ]
     },
     "execution_count": 305,
     "metadata": {},
     "output_type": "execute_result"
    }
   ],
   "source": [
    "df['trip_duration_hour'].mean()"
   ]
  },
  {
   "cell_type": "markdown",
   "id": "2f7ee01f",
   "metadata": {},
   "source": [
    "# Benchmark Model\n",
    "# I have used Root Mean Square Error (RMSE) over Mean Squared Error to bring the error difference in the same unit"
   ]
  },
  {
   "cell_type": "code",
   "execution_count": 306,
   "id": "597b02c0",
   "metadata": {},
   "outputs": [],
   "source": [
    "from sklearn.utils import shuffle\n",
    "# Shuffling the Dataset\n",
    "df = shuffle(df, random_state = 42)\n",
    "#creating 4 divisions\n",
    "div = int(df.shape[0]/4)\n",
    "# 3 parts to train set and 1 part to test set\n",
    "train = df.loc[:3*div+1,:]\n",
    "test = df.loc[3*div+1:]"
   ]
  },
  {
   "cell_type": "code",
   "execution_count": 307,
   "id": "17c9e662",
   "metadata": {},
   "outputs": [
    {
     "data": {
      "text/plain": [
       "(368884, 18)"
      ]
     },
     "execution_count": 307,
     "metadata": {},
     "output_type": "execute_result"
    }
   ],
   "source": [
    "train.shape"
   ]
  },
  {
   "cell_type": "code",
   "execution_count": 308,
   "id": "bab60ba9",
   "metadata": {},
   "outputs": [
    {
     "data": {
      "text/plain": [
       "(202812, 18)"
      ]
     },
     "execution_count": 308,
     "metadata": {},
     "output_type": "execute_result"
    }
   ],
   "source": [
    "test.shape"
   ]
  },
  {
   "cell_type": "code",
   "execution_count": 309,
   "id": "bed4625f",
   "metadata": {},
   "outputs": [],
   "source": [
    "import warnings\n",
    "warnings.filterwarnings('ignore')"
   ]
  },
  {
   "cell_type": "code",
   "execution_count": 310,
   "id": "d3439265",
   "metadata": {},
   "outputs": [],
   "source": [
    "# storing simple mean in a new column in the test set as \"simple_mean\"\n",
    "test['simple_mean'] = train['trip_duration_hour'].mean()"
   ]
  },
  {
   "cell_type": "code",
   "execution_count": 311,
   "id": "d1e26af7",
   "metadata": {},
   "outputs": [
    {
     "data": {
      "text/plain": [
       "0.1047293626440531"
      ]
     },
     "execution_count": 311,
     "metadata": {},
     "output_type": "execute_result"
    }
   ],
   "source": [
    "#calculating root mean square error\n",
    "from sklearn.metrics import mean_squared_error as MSE\n",
    "simple_mean_error = np.sqrt(MSE(test['trip_duration_hour'] , test['simple_mean']))\n",
    "simple_mean_error"
   ]
  },
  {
   "cell_type": "markdown",
   "id": "c482a42e",
   "metadata": {},
   "source": [
    "# The RMSE for trip duration hour is 0.1047293626440531"
   ]
  },
  {
   "cell_type": "code",
   "execution_count": 312,
   "id": "5b2c72cb",
   "metadata": {},
   "outputs": [
    {
     "data": {
      "text/html": [
       "<div>\n",
       "<style scoped>\n",
       "    .dataframe tbody tr th:only-of-type {\n",
       "        vertical-align: middle;\n",
       "    }\n",
       "\n",
       "    .dataframe tbody tr th {\n",
       "        vertical-align: top;\n",
       "    }\n",
       "\n",
       "    .dataframe thead th {\n",
       "        text-align: right;\n",
       "    }\n",
       "</style>\n",
       "<table border=\"1\" class=\"dataframe\">\n",
       "  <thead>\n",
       "    <tr style=\"text-align: right;\">\n",
       "      <th></th>\n",
       "      <th>trip_duration_hour</th>\n",
       "    </tr>\n",
       "    <tr>\n",
       "      <th>vendor_id</th>\n",
       "      <th></th>\n",
       "    </tr>\n",
       "  </thead>\n",
       "  <tbody>\n",
       "    <tr>\n",
       "      <th>1</th>\n",
       "      <td>0.182524</td>\n",
       "    </tr>\n",
       "    <tr>\n",
       "      <th>2</th>\n",
       "      <td>0.183927</td>\n",
       "    </tr>\n",
       "  </tbody>\n",
       "</table>\n",
       "</div>"
      ],
      "text/plain": [
       "           trip_duration_hour\n",
       "vendor_id                    \n",
       "1                    0.182524\n",
       "2                    0.183927"
      ]
     },
     "execution_count": 312,
     "metadata": {},
     "output_type": "execute_result"
    }
   ],
   "source": [
    "vendor=pd.pivot_table(train,values='trip_duration_hour',index=['vendor_id'],aggfunc=np.mean)\n",
    "vendor"
   ]
  },
  {
   "cell_type": "code",
   "execution_count": 313,
   "id": "4eb463a4",
   "metadata": {},
   "outputs": [],
   "source": [
    "# initializing new column to zero\n",
    "test['vendorid_mean'] = 0\n",
    "\n",
    "# For every unique entry in Outlet_Identifier\n",
    "for i in train['vendor_id'].unique():\n",
    "  # Assign the mean value corresponding to unique entry\n",
    "  test['vendorid_mean'][test['vendor_id'] == str(i)] = train['trip_duration_hour'][train['vendor_id'] == str(i)].mean()"
   ]
  },
  {
   "cell_type": "code",
   "execution_count": 314,
   "id": "9e24c0c2",
   "metadata": {},
   "outputs": [
    {
     "data": {
      "text/plain": [
       "0.21149797426310965"
      ]
     },
     "execution_count": 314,
     "metadata": {},
     "output_type": "execute_result"
    }
   ],
   "source": [
    "#calculating root mean square error\n",
    "vendor_error = np.sqrt(MSE(test['trip_duration_hour'] , test['vendorid_mean'] ))\n",
    "vendor_error"
   ]
  },
  {
   "cell_type": "code",
   "execution_count": 315,
   "id": "2510afa3",
   "metadata": {},
   "outputs": [
    {
     "data": {
      "text/html": [
       "<div>\n",
       "<style scoped>\n",
       "    .dataframe tbody tr th:only-of-type {\n",
       "        vertical-align: middle;\n",
       "    }\n",
       "\n",
       "    .dataframe tbody tr th {\n",
       "        vertical-align: top;\n",
       "    }\n",
       "\n",
       "    .dataframe thead th {\n",
       "        text-align: right;\n",
       "    }\n",
       "</style>\n",
       "<table border=\"1\" class=\"dataframe\">\n",
       "  <thead>\n",
       "    <tr style=\"text-align: right;\">\n",
       "      <th></th>\n",
       "      <th>trip_duration_hour</th>\n",
       "    </tr>\n",
       "    <tr>\n",
       "      <th>passenger_count</th>\n",
       "      <th></th>\n",
       "    </tr>\n",
       "  </thead>\n",
       "  <tbody>\n",
       "    <tr>\n",
       "      <th>1</th>\n",
       "      <td>0.182108</td>\n",
       "    </tr>\n",
       "    <tr>\n",
       "      <th>2</th>\n",
       "      <td>0.187481</td>\n",
       "    </tr>\n",
       "    <tr>\n",
       "      <th>3</th>\n",
       "      <td>0.187615</td>\n",
       "    </tr>\n",
       "  </tbody>\n",
       "</table>\n",
       "</div>"
      ],
      "text/plain": [
       "                 trip_duration_hour\n",
       "passenger_count                    \n",
       "1                          0.182108\n",
       "2                          0.187481\n",
       "3                          0.187615"
      ]
     },
     "execution_count": 315,
     "metadata": {},
     "output_type": "execute_result"
    }
   ],
   "source": [
    "passenger_type = pd.pivot_table(train, values='trip_duration_hour', index = ['passenger_count'], aggfunc=np.mean)\n",
    "passenger_type"
   ]
  },
  {
   "cell_type": "code",
   "execution_count": 316,
   "id": "48550504",
   "metadata": {},
   "outputs": [],
   "source": [
    "# initializing new column to zero\n",
    "test['passenger_count_mean'] = 0\n",
    "\n",
    "# For every unique entry in Outlet_Identifier\n",
    "for i in train['passenger_count'].unique():\n",
    "  # Assign the mean value corresponding to unique entry\n",
    "  test['passenger_count_mean'][test['passenger_count'] == str(i)] = train['trip_duration_hour'][train['passenger_count'] == str(i)].mean()"
   ]
  },
  {
   "cell_type": "code",
   "execution_count": 317,
   "id": "e81b8af1",
   "metadata": {},
   "outputs": [
    {
     "data": {
      "text/plain": [
       "0.21149797426310965"
      ]
     },
     "execution_count": 317,
     "metadata": {},
     "output_type": "execute_result"
    }
   ],
   "source": [
    "#calculating root mean square error\n",
    "passenger_type_error = np.sqrt(MSE(test['trip_duration_hour'] , test['passenger_count_mean'] ))\n",
    "passenger_type_error"
   ]
  },
  {
   "cell_type": "code",
   "execution_count": 318,
   "id": "b6da8863",
   "metadata": {},
   "outputs": [
    {
     "data": {
      "text/html": [
       "<div>\n",
       "<style scoped>\n",
       "    .dataframe tbody tr th:only-of-type {\n",
       "        vertical-align: middle;\n",
       "    }\n",
       "\n",
       "    .dataframe tbody tr th {\n",
       "        vertical-align: top;\n",
       "    }\n",
       "\n",
       "    .dataframe thead th {\n",
       "        text-align: right;\n",
       "    }\n",
       "</style>\n",
       "<table border=\"1\" class=\"dataframe\">\n",
       "  <thead>\n",
       "    <tr style=\"text-align: right;\">\n",
       "      <th></th>\n",
       "      <th></th>\n",
       "      <th>trip_duration_hour</th>\n",
       "    </tr>\n",
       "    <tr>\n",
       "      <th>vendor_id</th>\n",
       "      <th>passenger_count</th>\n",
       "      <th></th>\n",
       "    </tr>\n",
       "  </thead>\n",
       "  <tbody>\n",
       "    <tr>\n",
       "      <th rowspan=\"3\" valign=\"top\">1</th>\n",
       "      <th>1</th>\n",
       "      <td>0.180270</td>\n",
       "    </tr>\n",
       "    <tr>\n",
       "      <th>2</th>\n",
       "      <td>0.193511</td>\n",
       "    </tr>\n",
       "    <tr>\n",
       "      <th>3</th>\n",
       "      <td>0.195265</td>\n",
       "    </tr>\n",
       "    <tr>\n",
       "      <th rowspan=\"3\" valign=\"top\">2</th>\n",
       "      <th>1</th>\n",
       "      <td>0.184235</td>\n",
       "    </tr>\n",
       "    <tr>\n",
       "      <th>2</th>\n",
       "      <td>0.182942</td>\n",
       "    </tr>\n",
       "    <tr>\n",
       "      <th>3</th>\n",
       "      <td>0.183040</td>\n",
       "    </tr>\n",
       "  </tbody>\n",
       "</table>\n",
       "</div>"
      ],
      "text/plain": [
       "                           trip_duration_hour\n",
       "vendor_id passenger_count                    \n",
       "1         1                          0.180270\n",
       "          2                          0.193511\n",
       "          3                          0.195265\n",
       "2         1                          0.184235\n",
       "          2                          0.182942\n",
       "          3                          0.183040"
      ]
     },
     "execution_count": 318,
     "metadata": {},
     "output_type": "execute_result"
    }
   ],
   "source": [
    "#both vendor id and passenger count and its trip duration hour\n",
    "combo = pd.pivot_table(train, values = 'trip_duration_hour', index = ['vendor_id','passenger_count'], aggfunc = np.mean)\n",
    "combo"
   ]
  },
  {
   "cell_type": "code",
   "execution_count": 319,
   "id": "e66898bd",
   "metadata": {},
   "outputs": [],
   "source": [
    "# Initiating new empty column\n",
    "test['Super_mean'] = 0\n",
    "\n",
    "# Assigning variables to strings ( to shorten code length)\n",
    "s2 = 'passenger_count'\n",
    "s1 = 'vendor_id'\n",
    "\n",
    "# For every Unique Value in s1\n",
    "for i in test[s1].unique():\n",
    "  # For every Unique Value in s2\n",
    "  for j in test[s2].unique():\n",
    "    # Calculate and Assign mean to new column, corresponding to both unique values of s1 and s2 simultaneously\n",
    "    test['Super_mean'][(test[s1] == i) & (test[s2]==str(j))] = train['trip_duration_hour'][(train[s1] == i) & (train[s2]==str(j))].mean()"
   ]
  },
  {
   "cell_type": "code",
   "execution_count": 320,
   "id": "8768e14b",
   "metadata": {},
   "outputs": [
    {
     "data": {
      "text/plain": [
       "0.21149797426310965"
      ]
     },
     "execution_count": 320,
     "metadata": {},
     "output_type": "execute_result"
    }
   ],
   "source": [
    "#calculating mean absolute error\n",
    "super_mean_error = np.sqrt(MSE(test['trip_duration_hour'] , test['Super_mean'] ))\n",
    "super_mean_error"
   ]
  },
  {
   "cell_type": "markdown",
   "id": "535ccada",
   "metadata": {},
   "source": [
    "# The RMSE for vendor id and passenger count is 0.21149797426310965\n"
   ]
  },
  {
   "cell_type": "code",
   "execution_count": null,
   "id": "41851956",
   "metadata": {},
   "outputs": [],
   "source": []
  }
 ],
 "metadata": {
  "kernelspec": {
   "display_name": "Python 3 (ipykernel)",
   "language": "python",
   "name": "python3"
  },
  "language_info": {
   "codemirror_mode": {
    "name": "ipython",
    "version": 3
   },
   "file_extension": ".py",
   "mimetype": "text/x-python",
   "name": "python",
   "nbconvert_exporter": "python",
   "pygments_lexer": "ipython3",
   "version": "3.9.12"
  }
 },
 "nbformat": 4,
 "nbformat_minor": 5
}
